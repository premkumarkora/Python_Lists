{
  "nbformat": 4,
  "nbformat_minor": 0,
  "metadata": {
    "colab": {
      "provenance": [],
      "collapsed_sections": [],
      "authorship_tag": "ABX9TyOxwFwkpSxV32BL/HYQm8Gk"
    },
    "kernelspec": {
      "name": "python3",
      "display_name": "Python 3"
    },
    "language_info": {
      "name": "python"
    }
  },
  "cells": [
    {
      "cell_type": "markdown",
      "source": [
        "# reverse the list"
      ],
      "metadata": {
        "id": "_Q8Gyi1kydPP"
      }
    },
    {
      "cell_type": "code",
      "source": [
        "lst = [1, 5,7,9,12,3]\n",
        "lst.reverse()\n",
        "print(lst)"
      ],
      "metadata": {
        "colab": {
          "base_uri": "https://localhost:8080/"
        },
        "id": "WZTh5O7Vyb-H",
        "outputId": "750319b0-0583-421c-f49b-ae33a1305ab0"
      },
      "execution_count": null,
      "outputs": [
        {
          "output_type": "stream",
          "name": "stdout",
          "text": [
            "[3, 12, 9, 7, 5, 1]\n"
          ]
        }
      ]
    },
    {
      "cell_type": "code",
      "source": [
        "lst.reverse?"
      ],
      "metadata": {
        "id": "Dk3gSVdL0Vvj",
        "colab": {
          "base_uri": "https://localhost:8080/"
        },
        "outputId": "f923e4d0-58ad-47ed-f89a-67327b9ecc9a"
      },
      "execution_count": null,
      "outputs": [
        {
          "output_type": "stream",
          "name": "stdout",
          "text": [
            "Object `lst.reverse` not found.\n"
          ]
        }
      ]
    },
    {
      "cell_type": "markdown",
      "source": [
        "# List Append Example"
      ],
      "metadata": {
        "id": "SDJ-WzmLcPEP"
      }
    },
    {
      "cell_type": "code",
      "source": [
        "# animals list\n",
        "animals = ['cat', 'dog', 'rabbit']\n",
        "\n",
        "# list of wild animals\n",
        "wild_animals = ['tiger', 'fox']\n",
        "\n",
        "# appending wild_animals list to animals\n",
        "animals.append(wild_animals)\n",
        "\n",
        "print('Updated animals list: ', animals)\n",
        "\n",
        "print(wild_animals)\n"
      ],
      "metadata": {
        "id": "zaVZbalncMK7",
        "outputId": "a60c62d9-4e83-474b-bebe-a2b9df9478fb",
        "colab": {
          "base_uri": "https://localhost:8080/"
        }
      },
      "execution_count": null,
      "outputs": [
        {
          "output_type": "stream",
          "name": "stdout",
          "text": [
            "Updated animals list:  ['cat', 'dog', 'rabbit', ['tiger', 'fox']]\n",
            "['tiger', 'fox']\n"
          ]
        }
      ]
    },
    {
      "cell_type": "markdown",
      "source": [
        "# **List copy using =**\n",
        "\n",
        "\n",
        "Copy List Using Slicing Syntaxold_list = [1, 2, 3]\n",
        "\n",
        "# copy list using =\n",
        "new_list = old_list\n",
        "\n",
        "\n",
        "# add an element to list\n",
        "new_list.append('a')\n",
        "\n",
        "print('New List:', new_list)\n",
        "print('Old List:', old_list)"
      ],
      "metadata": {
        "id": "AGax_iQpeMsy"
      }
    },
    {
      "cell_type": "code",
      "source": [
        "old_list = [1, 2, 3]\n",
        "\n",
        "# copy list using =\n",
        "new_list = old_list\n",
        "\n",
        "\n",
        "# add an element to list\n",
        "new_list.append('a')\n",
        "\n",
        "print('New List:', new_list)\n",
        "print('Old List:', old_list)"
      ],
      "metadata": {
        "colab": {
          "base_uri": "https://localhost:8080/"
        },
        "id": "TMf7VZbdeKik",
        "outputId": "048d2b1e-fab9-47b5-a762-076a2f8a4796"
      },
      "execution_count": null,
      "outputs": [
        {
          "output_type": "stream",
          "name": "stdout",
          "text": [
            "New List: [1, 2, 3, 'a']\n",
            "Old List: [1, 2, 3, 'a']\n"
          ]
        }
      ]
    },
    {
      "cell_type": "markdown",
      "source": [
        "# Copy List Using Slicing Syntax"
      ],
      "metadata": {
        "id": "Vg2KFAeTfJva"
      }
    },
    {
      "cell_type": "code",
      "source": [
        "# shallow copy using the slicing syntax\n",
        "\n",
        "# mixed list\n",
        "list = ['cat', 0, 6.7]\n",
        "\n",
        "# copying a list using slicing\n",
        "new_list = list[:]\n",
        "\n",
        "\n",
        "# Adding an element to the new list\n",
        "new_list.append('dog')\n",
        "\n",
        "# Printing new and old list\n",
        "print('Old List:', list)\n",
        "print('New List:', new_list)"
      ],
      "metadata": {
        "colab": {
          "base_uri": "https://localhost:8080/"
        },
        "id": "ObHh2C8hfBl_",
        "outputId": "1ec6b67a-0fd9-40f0-93cc-49ee4329f45a"
      },
      "execution_count": null,
      "outputs": [
        {
          "output_type": "stream",
          "name": "stdout",
          "text": [
            "Old List: ['cat', 0, 6.7]\n",
            "New List: ['cat', 0, 6.7, 'dog']\n"
          ]
        }
      ]
    },
    {
      "cell_type": "markdown",
      "source": [
        "# Use of list count()"
      ],
      "metadata": {
        "id": "TFt8ECEBf0Qf"
      }
    },
    {
      "cell_type": "code",
      "source": [
        "# vowels list\n",
        "vowels = ['a', 'e', 'i', 'o', 'i', 'u']\n",
        "\n",
        "# count element 'i'\n",
        "count = vowels.count('i')\n",
        "\n",
        "\n",
        "# print count\n",
        "print('The count of i is:', count)\n",
        "\n",
        "# count element 'p'\n",
        "count = vowels.count('p')\n",
        "\n",
        "\n",
        "# print count\n",
        "print('The count of p is:', count)"
      ],
      "metadata": {
        "colab": {
          "base_uri": "https://localhost:8080/"
        },
        "id": "cvPKVd2mfyH5",
        "outputId": "d094611a-c73e-4008-93b3-e8600fe21da9"
      },
      "execution_count": null,
      "outputs": [
        {
          "output_type": "stream",
          "name": "stdout",
          "text": [
            "The count of i is: 2\n",
            "The count of p is: 0\n"
          ]
        }
      ]
    },
    {
      "cell_type": "markdown",
      "source": [
        "# Count Tuple and List Elements Inside List"
      ],
      "metadata": {
        "id": "rph0Npx8gXcH"
      }
    },
    {
      "cell_type": "code",
      "source": [
        "# random list\n",
        "random = ['a', ('a', 'b'), ('a', 'b'), [3, 4]]\n",
        "\n",
        "# count element ('a', 'b')\n",
        "count = random.count(('a', 'b'))\n",
        "\n",
        "\n",
        "# print count\n",
        "print(\"The count of ('a', 'b') is:\", count)\n",
        "\n",
        "# count element [3, 4]\n",
        "count = random.count([3, 4])\n",
        "\n",
        "\n",
        "# print count\n",
        "print(\"The count of [3, 4] is:\", count)"
      ],
      "metadata": {
        "colab": {
          "base_uri": "https://localhost:8080/"
        },
        "id": "uubfrSKzgWXP",
        "outputId": "3bb8d6ac-bdfd-4c6b-e249-2921016b291c"
      },
      "execution_count": null,
      "outputs": [
        {
          "output_type": "stream",
          "name": "stdout",
          "text": [
            "The count of ('a', 'b') is: 2\n",
            "The count of [3, 4] is: 1\n"
          ]
        }
      ]
    },
    {
      "cell_type": "markdown",
      "source": [
        "# extend() method"
      ],
      "metadata": {
        "id": "_fqC4l8QqtdO"
      }
    },
    {
      "cell_type": "code",
      "source": [
        "# create a list\n",
        "prime_numbers = [2, 3, 5]\n",
        "\n",
        "# create another list\n",
        "numbers = [1, 4]\n",
        "\n",
        "# add all elements of prime_numbers to numbers\n",
        "numbers.extend(prime_numbers)\n",
        "\n",
        "\n",
        "print('List after extend():', numbers)\n",
        "\n",
        "# Output: List after extend(): [1, 4, 2, 3, 5]"
      ],
      "metadata": {
        "colab": {
          "base_uri": "https://localhost:8080/"
        },
        "id": "GnsZywvbqrdK",
        "outputId": "beba6cca-1187-4653-b8ac-9dc45406f999"
      },
      "execution_count": null,
      "outputs": [
        {
          "output_type": "stream",
          "name": "stdout",
          "text": [
            "List after extend(): [1, 4, 2, 3, 5]\n"
          ]
        }
      ]
    },
    {
      "cell_type": "markdown",
      "source": [
        "# Using extend() Method"
      ],
      "metadata": {
        "id": "ZTC9uFVeq35n"
      }
    },
    {
      "cell_type": "code",
      "source": [
        "# languages list\n",
        "languages = ['French', 'English']\n",
        "\n",
        "# another list of language\n",
        "languages1 = ['Spanish', 'Portuguese']\n",
        "\n",
        "# appending language1 elements to language\n",
        "languages.extend(languages1)\n",
        "\n",
        "\n",
        "print('Languages List:', languages)"
      ],
      "metadata": {
        "colab": {
          "base_uri": "https://localhost:8080/"
        },
        "id": "k3DBL5YPq2vI",
        "outputId": "7759f314-6c0e-4fc9-fc98-a17f1f636005"
      },
      "execution_count": null,
      "outputs": [
        {
          "output_type": "stream",
          "name": "stdout",
          "text": [
            "Languages List: ['French', 'English', 'Spanish', 'Portuguese']\n"
          ]
        }
      ]
    },
    {
      "cell_type": "markdown",
      "source": [
        "# Add Elements of Tuple and Set to List"
      ],
      "metadata": {
        "id": "Tp86M6JYrJuw"
      }
    },
    {
      "cell_type": "code",
      "source": [
        "# languages list\n",
        "languages = ['French']\n",
        "\n",
        "# languages tuple\n",
        "languages_tuple = ('Spanish', 'Portuguese')\n",
        "\n",
        "# languages set\n",
        "languages_set = {'Chinese', 'Japanese'}\n",
        "\n",
        "# appending language_tuple elements to language\n",
        "languages.extend(languages_tuple)\n",
        "\n",
        "\n",
        "print('New Language List:', languages)\n",
        "\n",
        "# appending language_set elements to language\n",
        "languages.extend(languages_set)\n",
        "\n",
        "\n",
        "print('Newer Languages List:', languages)"
      ],
      "metadata": {
        "colab": {
          "base_uri": "https://localhost:8080/"
        },
        "id": "lYi29Vl7rI8S",
        "outputId": "5138aaa6-4dce-4552-e80b-5e3c5eb46cf7"
      },
      "execution_count": null,
      "outputs": [
        {
          "output_type": "stream",
          "name": "stdout",
          "text": [
            "New Language List: ['French', 'Spanish', 'Portuguese']\n",
            "Newer Languages List: ['French', 'Spanish', 'Portuguese', 'Japanese', 'Chinese']\n"
          ]
        }
      ]
    },
    {
      "cell_type": "markdown",
      "source": [
        "# List index()"
      ],
      "metadata": {
        "id": "49opBuMcsA5k"
      }
    },
    {
      "cell_type": "code",
      "source": [
        "animals = ['cat', 'dog', 'rabbit', 'horse']\n",
        "\n",
        "# get the index of 'dog'\n",
        "index = animals.index('dog')\n",
        "\n",
        "\n",
        "print(index)\n",
        "\n",
        "# Output: 1"
      ],
      "metadata": {
        "colab": {
          "base_uri": "https://localhost:8080/"
        },
        "id": "Pv8keYrnsAC4",
        "outputId": "ddaa2552-87ea-4794-a144-636143b7f456"
      },
      "execution_count": null,
      "outputs": [
        {
          "output_type": "stream",
          "name": "stdout",
          "text": [
            "1\n"
          ]
        }
      ]
    },
    {
      "cell_type": "markdown",
      "source": [
        "# Find the index of the element"
      ],
      "metadata": {
        "id": "PypxJqsVsOIS"
      }
    },
    {
      "cell_type": "code",
      "source": [
        "# vowels list\n",
        "vowels = ['a', 'e', 'i', 'o', 'i', 'u']\n",
        "\n",
        "# index of 'e' in vowels\n",
        "index = vowels.index('e')\n",
        "\n",
        "print('The index of e:', index)\n",
        "\n",
        "# element 'i' is searched\n",
        "# index of the first 'i' is returned\n",
        "index = vowels.index('i')\n",
        "\n",
        "\n",
        "print('The index of i:', index)"
      ],
      "metadata": {
        "colab": {
          "base_uri": "https://localhost:8080/"
        },
        "id": "Tua_n06ysJx2",
        "outputId": "1ae79ccf-ca6c-4277-86ea-81859852fcfe"
      },
      "execution_count": null,
      "outputs": [
        {
          "output_type": "stream",
          "name": "stdout",
          "text": [
            "The index of e: 1\n",
            "The index of i: 2\n"
          ]
        }
      ]
    },
    {
      "cell_type": "markdown",
      "source": [
        "# Index of the Element not Present in the List"
      ],
      "metadata": {
        "id": "MJyyVK-OsXTJ"
      }
    },
    {
      "cell_type": "code",
      "source": [
        "# vowels list\n",
        "vowels = ['a', 'e', 'i', 'o', 'u']\n",
        "\n",
        "# index of 'p' is vowels\n",
        "index = vowels.index('p')\n",
        "\n",
        "print('The index of p:', index)"
      ],
      "metadata": {
        "colab": {
          "base_uri": "https://localhost:8080/",
          "height": 235
        },
        "id": "d94JyYJisV31",
        "outputId": "d7cc5909-45d3-4081-d607-ee808789f6a7"
      },
      "execution_count": null,
      "outputs": [
        {
          "output_type": "error",
          "ename": "ValueError",
          "evalue": "ignored",
          "traceback": [
            "\u001b[0;31m---------------------------------------------------------------------------\u001b[0m",
            "\u001b[0;31mValueError\u001b[0m                                Traceback (most recent call last)",
            "\u001b[0;32m<ipython-input-11-88debd93b74d>\u001b[0m in \u001b[0;36m<module>\u001b[0;34m\u001b[0m\n\u001b[1;32m      3\u001b[0m \u001b[0;34m\u001b[0m\u001b[0m\n\u001b[1;32m      4\u001b[0m \u001b[0;31m# index of 'p' is vowels\u001b[0m\u001b[0;34m\u001b[0m\u001b[0;34m\u001b[0m\u001b[0;34m\u001b[0m\u001b[0m\n\u001b[0;32m----> 5\u001b[0;31m \u001b[0mindex\u001b[0m \u001b[0;34m=\u001b[0m \u001b[0mvowels\u001b[0m\u001b[0;34m.\u001b[0m\u001b[0mindex\u001b[0m\u001b[0;34m(\u001b[0m\u001b[0;34m'p'\u001b[0m\u001b[0;34m)\u001b[0m\u001b[0;34m\u001b[0m\u001b[0;34m\u001b[0m\u001b[0m\n\u001b[0m\u001b[1;32m      6\u001b[0m \u001b[0;34m\u001b[0m\u001b[0m\n\u001b[1;32m      7\u001b[0m \u001b[0mprint\u001b[0m\u001b[0;34m(\u001b[0m\u001b[0;34m'The index of p:'\u001b[0m\u001b[0;34m,\u001b[0m \u001b[0mindex\u001b[0m\u001b[0;34m)\u001b[0m\u001b[0;34m\u001b[0m\u001b[0;34m\u001b[0m\u001b[0m\n",
            "\u001b[0;31mValueError\u001b[0m: 'p' is not in list"
          ]
        }
      ]
    },
    {
      "cell_type": "markdown",
      "source": [
        "# Working of index() With Start and End Parameters"
      ],
      "metadata": {
        "id": "ZLon1JV0sgx5"
      }
    },
    {
      "cell_type": "code",
      "source": [
        "# alphabets list\n",
        "alphabets = ['a', 'e', 'i', 'o', 'g', 'l', 'i', 'u']\n",
        "\n",
        "# index of 'i' in alphabets\n",
        "index = alphabets.index('e')   # 1\n",
        "\n",
        "print('The index of e:', index)\n",
        "\n",
        "# 'i' after the 4th index is searched\n",
        "index = alphabets.index('i', 4)   # 6\n",
        "\n",
        "print('The index of i:', index)\n",
        "\n",
        "# 'i' between 3rd and 5th index is searched\n",
        "index = alphabets.index('i', 3, 5)   # Error!\n",
        "\n",
        "print('The index of i:', index)"
      ],
      "metadata": {
        "colab": {
          "base_uri": "https://localhost:8080/",
          "height": 269
        },
        "id": "C4O138BjsfQt",
        "outputId": "bf70b5d0-3516-4e38-c3b7-fa562a36d9f4"
      },
      "execution_count": null,
      "outputs": [
        {
          "output_type": "stream",
          "name": "stdout",
          "text": [
            "The index of e: 1\n",
            "The index of i: 6\n"
          ]
        },
        {
          "output_type": "error",
          "ename": "ValueError",
          "evalue": "ignored",
          "traceback": [
            "\u001b[0;31m---------------------------------------------------------------------------\u001b[0m",
            "\u001b[0;31mValueError\u001b[0m                                Traceback (most recent call last)",
            "\u001b[0;32m<ipython-input-12-08956b1f1789>\u001b[0m in \u001b[0;36m<module>\u001b[0;34m\u001b[0m\n\u001b[1;32m     13\u001b[0m \u001b[0;34m\u001b[0m\u001b[0m\n\u001b[1;32m     14\u001b[0m \u001b[0;31m# 'i' between 3rd and 5th index is searched\u001b[0m\u001b[0;34m\u001b[0m\u001b[0;34m\u001b[0m\u001b[0;34m\u001b[0m\u001b[0m\n\u001b[0;32m---> 15\u001b[0;31m \u001b[0mindex\u001b[0m \u001b[0;34m=\u001b[0m \u001b[0malphabets\u001b[0m\u001b[0;34m.\u001b[0m\u001b[0mindex\u001b[0m\u001b[0;34m(\u001b[0m\u001b[0;34m'i'\u001b[0m\u001b[0;34m,\u001b[0m \u001b[0;36m3\u001b[0m\u001b[0;34m,\u001b[0m \u001b[0;36m5\u001b[0m\u001b[0;34m)\u001b[0m   \u001b[0;31m# Error!\u001b[0m\u001b[0;34m\u001b[0m\u001b[0;34m\u001b[0m\u001b[0m\n\u001b[0m\u001b[1;32m     16\u001b[0m \u001b[0;34m\u001b[0m\u001b[0m\n\u001b[1;32m     17\u001b[0m \u001b[0mprint\u001b[0m\u001b[0;34m(\u001b[0m\u001b[0;34m'The index of i:'\u001b[0m\u001b[0;34m,\u001b[0m \u001b[0mindex\u001b[0m\u001b[0;34m)\u001b[0m\u001b[0;34m\u001b[0m\u001b[0;34m\u001b[0m\u001b[0m\n",
            "\u001b[0;31mValueError\u001b[0m: 'i' is not in list"
          ]
        }
      ]
    },
    {
      "cell_type": "markdown",
      "source": [
        "# List pop()"
      ],
      "metadata": {
        "id": "ccgYjJO6talm"
      }
    },
    {
      "cell_type": "code",
      "source": [
        "# create a list of prime numbers\n",
        "prime_numbers = [2, 3, 5, 7]\n",
        "\n",
        "# remove the element at index 2\n",
        "removed_element = prime_numbers.pop(2)\n",
        "\n",
        "print('Removed Element:', removed_element)\n",
        "print('Updated List:', prime_numbers)\n",
        "\n",
        "# Output: \n",
        "# Removed Element: 5\n",
        "# Updated List: [2, 3, 7]"
      ],
      "metadata": {
        "colab": {
          "base_uri": "https://localhost:8080/"
        },
        "id": "0E-MlZkftZ1m",
        "outputId": "170a88f6-e47d-4faf-ad5e-f4734056a7d1"
      },
      "execution_count": null,
      "outputs": [
        {
          "output_type": "stream",
          "name": "stdout",
          "text": [
            "Removed Element: 5\n",
            "Updated List: [2, 3, 7]\n"
          ]
        }
      ]
    },
    {
      "cell_type": "markdown",
      "source": [
        "# Pop item at the given index from the list"
      ],
      "metadata": {
        "id": "Gx6zlD-jtnK1"
      }
    },
    {
      "cell_type": "code",
      "source": [
        "# programming languages list\n",
        "languages = ['Python', 'Java', 'C++', 'French', 'C']\n",
        "\n",
        "# remove and return the 4th item\n",
        "return_value = languages.pop(3)\n",
        "\n",
        "print('Return Value:', return_value)\n",
        "\n",
        "# Updated List\n",
        "print('Updated List:', languages)"
      ],
      "metadata": {
        "colab": {
          "base_uri": "https://localhost:8080/"
        },
        "id": "e52HljaFtmnx",
        "outputId": "44697f85-f19a-448d-dc72-32ee1b330cdf"
      },
      "execution_count": null,
      "outputs": [
        {
          "output_type": "stream",
          "name": "stdout",
          "text": [
            "Return Value: French\n",
            "Updated List: ['Python', 'Java', 'C++', 'C']\n"
          ]
        }
      ]
    },
    {
      "cell_type": "markdown",
      "source": [
        "# pop() without an index, and for negative indices"
      ],
      "metadata": {
        "id": "ZxWJ7AgGtxkz"
      }
    },
    {
      "cell_type": "code",
      "source": [
        "# programming languages list\n",
        "languages = ['Python', 'Java', 'C++', 'Ruby', 'C']\n",
        "\n",
        "# remove and return the last item\n",
        "print('When index is not passed:') \n",
        "print('Return Value:', languages.pop())\n",
        "\n",
        "print('Updated List:', languages)\n",
        "\n",
        "# remove and return the last item\n",
        "print('\\nWhen -1 is passed:') \n",
        "print('Return Value:', languages.pop(-1))\n",
        "\n",
        "print('Updated List:', languages)\n",
        "\n",
        "# remove and return the third last item\n",
        "print('\\nWhen -3 is passed:') \n",
        "print('Return Value:', languages.pop(-3))\n",
        "\n",
        "print('Updated List:', languages)"
      ],
      "metadata": {
        "colab": {
          "base_uri": "https://localhost:8080/"
        },
        "id": "9_z9kno2tw4f",
        "outputId": "ab8294b0-6c70-43ee-e09d-070e9d2c1c26"
      },
      "execution_count": null,
      "outputs": [
        {
          "output_type": "stream",
          "name": "stdout",
          "text": [
            "When index is not passed:\n",
            "Return Value: C\n",
            "Updated List: ['Python', 'Java', 'C++', 'Ruby']\n",
            "\n",
            "When -1 is passed:\n",
            "Return Value: Ruby\n",
            "Updated List: ['Python', 'Java', 'C++']\n",
            "\n",
            "When -3 is passed:\n",
            "Return Value: Python\n",
            "Updated List: ['Java', 'C++']\n"
          ]
        }
      ]
    },
    {
      "cell_type": "markdown",
      "source": [
        "# List remove()"
      ],
      "metadata": {
        "id": "owaxwLptNV7t"
      }
    },
    {
      "cell_type": "code",
      "source": [
        "# create a list\n",
        "prime_numbers = [2, 3, 5, 7, 9, 11, 9]\n",
        "\n",
        "# remove 9 from the list\n",
        "prime_numbers.remove(9)\n",
        "\n",
        "\n",
        "# Updated prime_numbers List\n",
        "print('Updated List: ', prime_numbers)\n",
        "\n",
        "# Output: Updated List:  [2, 3, 5, 7, 11]"
      ],
      "metadata": {
        "colab": {
          "base_uri": "https://localhost:8080/"
        },
        "id": "09SKFKPUNTb6",
        "outputId": "1aa4f688-5428-445f-dbc5-9bc24dc0926a"
      },
      "execution_count": null,
      "outputs": [
        {
          "output_type": "stream",
          "name": "stdout",
          "text": [
            "Updated List:  [2, 3, 5, 7, 11, 9]\n"
          ]
        }
      ]
    },
    {
      "cell_type": "markdown",
      "source": [
        "# Remove element from the list"
      ],
      "metadata": {
        "id": "2oX3t7a7Nh0a"
      }
    },
    {
      "cell_type": "code",
      "source": [
        "# animals list\n",
        "animals = ['cat', 'dog', 'rabbit', 'guinea pig']\n",
        "\n",
        "# 'rabbit' is removed\n",
        "animals.remove('rabbit')\n",
        "\n",
        "\n",
        "# Updated animals List\n",
        "print('Updated animals list: ', animals)"
      ],
      "metadata": {
        "colab": {
          "base_uri": "https://localhost:8080/"
        },
        "id": "wdsdj-YwNhCE",
        "outputId": "0b5e505d-d2dd-47f6-95f0-915f7ea7e386"
      },
      "execution_count": null,
      "outputs": [
        {
          "output_type": "stream",
          "name": "stdout",
          "text": [
            "Updated animals list:  ['cat', 'dog', 'guinea pig']\n"
          ]
        }
      ]
    },
    {
      "cell_type": "markdown",
      "source": [
        "# remove() method on a list having duplicate elements"
      ],
      "metadata": {
        "id": "EtXmi0A8PwJL"
      }
    },
    {
      "cell_type": "code",
      "source": [
        "# animals list\n",
        "animals = ['cat', 'dog', 'dog', 'guinea pig', 'dog']\n",
        "\n",
        "# 'dog' is removed\n",
        "animals.remove('dog')\n",
        "\n",
        "\n",
        "# Updated animals list\n",
        "print('Updated animals list: ', animals)\n"
      ],
      "metadata": {
        "colab": {
          "base_uri": "https://localhost:8080/"
        },
        "id": "Do6yMGl0PvBs",
        "outputId": "308bf533-ba9f-4516-b956-14856ac69336"
      },
      "execution_count": null,
      "outputs": [
        {
          "output_type": "stream",
          "name": "stdout",
          "text": [
            "Updated animals list:  ['cat', 'dog', 'guinea pig', 'dog']\n"
          ]
        }
      ]
    },
    {
      "cell_type": "markdown",
      "source": [
        "# Removing element that doesn't exist"
      ],
      "metadata": {
        "id": "1eoTS1GBP44G"
      }
    },
    {
      "cell_type": "code",
      "source": [
        "# animals list\n",
        "animals = ['cat', 'dog', 'rabbit', 'guinea pig']\n",
        "\n",
        "# Deleting 'fish' element\n",
        "animals.remove('fish')\n",
        "\n",
        "\n",
        "# Updated animals List\n",
        "print('Updated animals list: ', animals)"
      ],
      "metadata": {
        "colab": {
          "base_uri": "https://localhost:8080/",
          "height": 235
        },
        "id": "ua0YkP7AP4YE",
        "outputId": "62cdd1ff-416b-413f-8a50-8ad4be1961ec"
      },
      "execution_count": null,
      "outputs": [
        {
          "output_type": "error",
          "ename": "ValueError",
          "evalue": "ignored",
          "traceback": [
            "\u001b[0;31m---------------------------------------------------------------------------\u001b[0m",
            "\u001b[0;31mValueError\u001b[0m                                Traceback (most recent call last)",
            "\u001b[0;32m<ipython-input-4-7efb38c95dde>\u001b[0m in \u001b[0;36m<module>\u001b[0;34m\u001b[0m\n\u001b[1;32m      3\u001b[0m \u001b[0;34m\u001b[0m\u001b[0m\n\u001b[1;32m      4\u001b[0m \u001b[0;31m# Deleting 'fish' element\u001b[0m\u001b[0;34m\u001b[0m\u001b[0;34m\u001b[0m\u001b[0;34m\u001b[0m\u001b[0m\n\u001b[0;32m----> 5\u001b[0;31m \u001b[0manimals\u001b[0m\u001b[0;34m.\u001b[0m\u001b[0mremove\u001b[0m\u001b[0;34m(\u001b[0m\u001b[0;34m'fish'\u001b[0m\u001b[0;34m)\u001b[0m\u001b[0;34m\u001b[0m\u001b[0;34m\u001b[0m\u001b[0m\n\u001b[0m\u001b[1;32m      6\u001b[0m \u001b[0;34m\u001b[0m\u001b[0m\n\u001b[1;32m      7\u001b[0m \u001b[0;34m\u001b[0m\u001b[0m\n",
            "\u001b[0;31mValueError\u001b[0m: list.remove(x): x not in list"
          ]
        }
      ]
    },
    {
      "cell_type": "markdown",
      "source": [
        "# List reverse()"
      ],
      "metadata": {
        "id": "z2wX5WaFQ00b"
      }
    },
    {
      "cell_type": "code",
      "source": [
        "# create a list of prime numbers\n",
        "prime_numbers = [2, 3, 5, 7]\n",
        "\n",
        "# reverse the order of list elements\n",
        "prime_numbers.reverse()\n",
        "\n",
        "\n",
        "print('Reversed List:', prime_numbers)\n",
        "\n",
        "# Output: Reversed List: [7, 5, 3, 2]"
      ],
      "metadata": {
        "colab": {
          "base_uri": "https://localhost:8080/"
        },
        "id": "zsvIa8j2Qz7b",
        "outputId": "1bd518e5-dd77-4194-c441-4f48656e4108"
      },
      "execution_count": null,
      "outputs": [
        {
          "output_type": "stream",
          "name": "stdout",
          "text": [
            "Reversed List: [7, 5, 3, 2]\n"
          ]
        }
      ]
    },
    {
      "cell_type": "markdown",
      "source": [
        "# Reverse a List"
      ],
      "metadata": {
        "id": "rNbCU-0PQ8KW"
      }
    },
    {
      "cell_type": "code",
      "source": [
        "# Operating System List\n",
        "systems = ['Windows', 'macOS', 'Linux']\n",
        "print('Original List:', systems)\n",
        "\n",
        "# List Reverse\n",
        "systems.reverse()\n",
        "\n",
        "\n",
        "# updated list\n",
        "print('Updated List:', systems)"
      ],
      "metadata": {
        "colab": {
          "base_uri": "https://localhost:8080/"
        },
        "id": "QPVAwvUqQ7pc",
        "outputId": "d81cbdff-d408-4589-e8a9-e75998bbaf0a"
      },
      "execution_count": null,
      "outputs": [
        {
          "output_type": "stream",
          "name": "stdout",
          "text": [
            "Original List: ['Windows', 'macOS', 'Linux']\n",
            "Updated List: ['Linux', 'macOS', 'Windows']\n"
          ]
        }
      ]
    },
    {
      "cell_type": "markdown",
      "source": [
        "# Reverse a List Using Slicing Operator"
      ],
      "metadata": {
        "id": "zmPByTYGRGR2"
      }
    },
    {
      "cell_type": "code",
      "source": [
        "# Operating System List\n",
        "systems = ['Windows', 'macOS', 'Linux']\n",
        "print('Original List:', systems)\n",
        "\n",
        "# Reversing a list\t\n",
        "# Syntax: reversed_list = systems[start:stop:step] \n",
        "reversed_list = systems[2::-1]\n",
        "\n",
        "\n",
        "# updated list\n",
        "print('Updated List:', reversed_list)"
      ],
      "metadata": {
        "colab": {
          "base_uri": "https://localhost:8080/"
        },
        "id": "SvZLG5xCRFso",
        "outputId": "6bc144d4-190c-4be9-b227-b5f14fe49076"
      },
      "execution_count": null,
      "outputs": [
        {
          "output_type": "stream",
          "name": "stdout",
          "text": [
            "Original List: ['Windows', 'macOS', 'Linux']\n",
            "Updated List: ['Linux', 'macOS', 'Windows']\n"
          ]
        }
      ]
    },
    {
      "cell_type": "markdown",
      "source": [
        "# Accessing Elements in Reversed Order"
      ],
      "metadata": {
        "id": "Yu5HLZGjRx-v"
      }
    },
    {
      "cell_type": "code",
      "source": [
        "# Operating System List\n",
        "systems = ['Windows', 'macOS', 'Linux']\n",
        "\n",
        "# Printing Elements in Reversed Order\n",
        "for o in reversed(systems):\n",
        "    print(o)\n"
      ],
      "metadata": {
        "colab": {
          "base_uri": "https://localhost:8080/"
        },
        "id": "JHiD2btTRxJz",
        "outputId": "7b89b93e-9b45-4e06-9aeb-286dfd9d7708"
      },
      "execution_count": null,
      "outputs": [
        {
          "output_type": "stream",
          "name": "stdout",
          "text": [
            "Linux\n",
            "macOS\n",
            "Windows\n"
          ]
        }
      ]
    },
    {
      "cell_type": "markdown",
      "source": [
        "# List sort()"
      ],
      "metadata": {
        "id": "FkwZ6FiUVfYY"
      }
    },
    {
      "cell_type": "code",
      "source": [
        "prime_numbers = [11, 3, 7, 5, 2]\n",
        "\n",
        "# sorting the list in ascending order\n",
        "prime_numbers.sort()\n",
        "\n",
        "print(prime_numbers)\n",
        "\n",
        "# Output: [2, 3, 5, 7, 11]"
      ],
      "metadata": {
        "colab": {
          "base_uri": "https://localhost:8080/"
        },
        "id": "pFtZXk7rVeY3",
        "outputId": "e2dfeb7a-c792-44c1-c08f-7d91b0dbad75"
      },
      "execution_count": null,
      "outputs": [
        {
          "output_type": "stream",
          "name": "stdout",
          "text": [
            "[2, 3, 5, 7, 11]\n"
          ]
        }
      ]
    },
    {
      "cell_type": "markdown",
      "source": [
        "# Sort a given list - Strings"
      ],
      "metadata": {
        "id": "4gtIawZYVot3"
      }
    },
    {
      "cell_type": "code",
      "source": [
        "# vowels list\n",
        "vowels = ['e', 'a', 'u', 'o', 'i']\n",
        "\n",
        "# sort the vowels\n",
        "vowels.sort()\n",
        "\n",
        "# print vowels\n",
        "print('Sorted list:', vowels)"
      ],
      "metadata": {
        "colab": {
          "base_uri": "https://localhost:8080/"
        },
        "id": "aoezdQ-7Vn9f",
        "outputId": "96813a5a-9bf6-4be1-aea1-77afa9272a8c"
      },
      "execution_count": null,
      "outputs": [
        {
          "output_type": "stream",
          "name": "stdout",
          "text": [
            "Sorted list: ['a', 'e', 'i', 'o', 'u']\n"
          ]
        }
      ]
    },
    {
      "cell_type": "markdown",
      "source": [
        "# Sort in Descending order"
      ],
      "metadata": {
        "id": "nSUrPwWLV8Q7"
      }
    },
    {
      "cell_type": "code",
      "source": [
        "# vowels list\n",
        "vowels = ['e', 'a', 'u', 'o', 'i']\n",
        "\n",
        "# sort the vowels\n",
        "vowels.sort(reverse=True)\n",
        "\n",
        "# print vowels\n",
        "print('Sorted list (in Descending):', vowels)"
      ],
      "metadata": {
        "colab": {
          "base_uri": "https://localhost:8080/"
        },
        "id": "ysNTTdfGV7wm",
        "outputId": "6b1c1e87-e53d-4546-9ba8-a0e22d6a5c16"
      },
      "execution_count": null,
      "outputs": [
        {
          "output_type": "stream",
          "name": "stdout",
          "text": [
            "Sorted list (in Descending): ['u', 'o', 'i', 'e', 'a']\n"
          ]
        }
      ]
    },
    {
      "cell_type": "markdown",
      "source": [
        "# ***Sort the list using key***\n",
        "\n",
        "---\n",
        "\n"
      ],
      "metadata": {
        "id": "BHWSBgdwWH_0"
      }
    },
    {
      "cell_type": "code",
      "source": [
        "# take second element for sort\n",
        "def takeSecond(elem):\n",
        "    return elem[1]\n",
        "\n",
        "# random list\n",
        "random = [(2, 2), (3, 4), (4, 1), (1, 3)]\n",
        "\n",
        "# sort list with key\n",
        "random.sort(key=takeSecond)\n",
        "print('Sorted list:', random)\n",
        "random.sort(key=takeSecond)\n",
        "\n",
        "# print list\n",
        "print('Sorted list:', random)"
      ],
      "metadata": {
        "colab": {
          "base_uri": "https://localhost:8080/"
        },
        "id": "UEmoNhhgWHhZ",
        "outputId": "d6c69345-be06-4402-9653-ab65cf086196"
      },
      "execution_count": null,
      "outputs": [
        {
          "output_type": "stream",
          "name": "stdout",
          "text": [
            "Sorted list: [(4, 1), (2, 2), (1, 3), (3, 4)]\n",
            "Sorted list: [(4, 1), (2, 2), (1, 3), (3, 4)]\n"
          ]
        }
      ]
    },
    {
      "cell_type": "markdown",
      "source": [
        "Let's take another example. Suppose we have a list of information about the employees of an office where each element is a dictionary.\n",
        "\n",
        "We can sort the list in the following way:\n",
        "\n",
        "Here, for the first case, our custom function returns the name of each employee. Since the name is a string, Python by default sorts it using the alphabetical order.\n",
        "\n",
        "For the second case, age (int) is returned and is sorted in ascending order.\n",
        "\n",
        "For the third case, the function returns the salary (int), and is sorted in the descending order using reverse = True."
      ],
      "metadata": {
        "id": "xEhlxhyvjdqH"
      }
    },
    {
      "cell_type": "code",
      "source": [
        "# sorting using custom key\n",
        "employees = [\n",
        "    {'Name': 'Alan Turing', 'age': 25, 'salary': 10000},\n",
        "    {'Name': 'Sharon Lin', 'age': 30, 'salary': 8000},\n",
        "    {'Name': 'John Hopkins', 'age': 18, 'salary': 1000},\n",
        "    {'Name': 'Mikhail Tal', 'age': 40, 'salary': 15000},\n",
        "]\n",
        "\n",
        "# custom functions to get employee info\n",
        "def get_name(employee):\n",
        "    return employee.get('Name')\n",
        "\n",
        "\n",
        "def get_age(employee):\n",
        "    return employee.get('age')\n",
        "\n",
        "\n",
        "def get_salary(employee):\n",
        "    return employee.get('salary')\n",
        "\n",
        "\n",
        "# sort by name (Ascending order)\n",
        "employees.sort(key=get_name)\n",
        "print(employees, end='\\n\\n')\n",
        "\n",
        "# sort by Age (Ascending order)\n",
        "employees.sort(key=get_age)\n",
        "print(employees, end='\\n\\n')\n",
        "\n",
        "# sort by salary (Descending order)\n",
        "employees.sort(key=get_salary, reverse=True)\n",
        "print(employees, end='\\n\\n')"
      ],
      "metadata": {
        "colab": {
          "base_uri": "https://localhost:8080/"
        },
        "id": "nRdkLx0VjdB3",
        "outputId": "854017ab-1330-416f-c778-21a5cc6a9947"
      },
      "execution_count": null,
      "outputs": [
        {
          "output_type": "stream",
          "name": "stdout",
          "text": [
            "[{'Name': 'Alan Turing', 'age': 25, 'salary': 10000}, {'Name': 'John Hopkins', 'age': 18, 'salary': 1000}, {'Name': 'Mikhail Tal', 'age': 40, 'salary': 15000}, {'Name': 'Sharon Lin', 'age': 30, 'salary': 8000}]\n",
            "\n",
            "[{'Name': 'John Hopkins', 'age': 18, 'salary': 1000}, {'Name': 'Alan Turing', 'age': 25, 'salary': 10000}, {'Name': 'Sharon Lin', 'age': 30, 'salary': 8000}, {'Name': 'Mikhail Tal', 'age': 40, 'salary': 15000}]\n",
            "\n",
            "[{'Name': 'Mikhail Tal', 'age': 40, 'salary': 15000}, {'Name': 'Alan Turing', 'age': 25, 'salary': 10000}, {'Name': 'Sharon Lin', 'age': 30, 'salary': 8000}, {'Name': 'John Hopkins', 'age': 18, 'salary': 1000}]\n",
            "\n"
          ]
        }
      ]
    },
    {
      "cell_type": "markdown",
      "source": [
        "It is a good practice to use the lambda function when the function can be summarized in one line. So, we can also write the above program as:"
      ],
      "metadata": {
        "id": "faJblwynj4Zy"
      }
    },
    {
      "cell_type": "code",
      "source": [
        "# sorting using custom key\n",
        "employees = [\n",
        "    {'Name': 'Alan Turing', 'age': 25, 'salary': 10000},\n",
        "    {'Name': 'Sharon Lin', 'age': 30, 'salary': 8000},\n",
        "    {'Name': 'John Hopkins', 'age': 18, 'salary': 1000},\n",
        "    {'Name': 'Mikhail Tal', 'age': 40, 'salary': 15000},\n",
        "]\n",
        "\n",
        "# sort by name (Ascending order)\n",
        "employees.sort(key=lambda x: x.get('Name'))\n",
        "print(employees, end='\\n\\n')\n",
        "\n",
        "# sort by Age (Ascending order)\n",
        "employees.sort(key=lambda x: x.get('age'))\n",
        "print(employees, end='\\n\\n')\n",
        "\n",
        "# sort by salary (Descending order)\n",
        "employees.sort(key=lambda x: x.get('salary'), reverse=True)\n",
        "print(employees, end='\\n\\n')"
      ],
      "metadata": {
        "colab": {
          "base_uri": "https://localhost:8080/"
        },
        "id": "mXtZC9h5j729",
        "outputId": "c16c8aab-fd63-434b-aee0-ca0412fd4fd7"
      },
      "execution_count": null,
      "outputs": [
        {
          "output_type": "stream",
          "name": "stdout",
          "text": [
            "[{'Name': 'Alan Turing', 'age': 25, 'salary': 10000}, {'Name': 'John Hopkins', 'age': 18, 'salary': 1000}, {'Name': 'Mikhail Tal', 'age': 40, 'salary': 15000}, {'Name': 'Sharon Lin', 'age': 30, 'salary': 8000}]\n",
            "\n",
            "[{'Name': 'John Hopkins', 'age': 18, 'salary': 1000}, {'Name': 'Alan Turing', 'age': 25, 'salary': 10000}, {'Name': 'Sharon Lin', 'age': 30, 'salary': 8000}, {'Name': 'Mikhail Tal', 'age': 40, 'salary': 15000}]\n",
            "\n",
            "[{'Name': 'Mikhail Tal', 'age': 40, 'salary': 15000}, {'Name': 'Alan Turing', 'age': 25, 'salary': 10000}, {'Name': 'Sharon Lin', 'age': 30, 'salary': 8000}, {'Name': 'John Hopkins', 'age': 18, 'salary': 1000}]\n",
            "\n"
          ]
        }
      ]
    },
    {
      "cell_type": "markdown",
      "source": [
        "# List insert()\n",
        "The insert() method takes two parameters:\n",
        "\n",
        "index - the index where the element needs to be inserted\n",
        "element - this is the element to be inserted in the list"
      ],
      "metadata": {
        "id": "aNk9K_7Rkjvr"
      }
    },
    {
      "cell_type": "code",
      "source": [
        "# create a list of vowels\n",
        "vowel = ['a', 'e', 'i', 'u']\n",
        "\n",
        "# 'o' is inserted at index 3 (4th position)\n",
        "vowel.insert(3, 'o')\n",
        "\n",
        "\n",
        "print('List:', vowel)\n",
        "\n",
        "# Output: List: ['a', 'e', 'i', 'o', 'u']"
      ],
      "metadata": {
        "colab": {
          "base_uri": "https://localhost:8080/"
        },
        "id": "hyO1Id70kiY0",
        "outputId": "6366e6be-6500-4d61-82c6-ae6934d9a2aa"
      },
      "execution_count": null,
      "outputs": [
        {
          "output_type": "stream",
          "name": "stdout",
          "text": [
            "List: ['a', 'e', 'i', 'o', 'u']\n"
          ]
        }
      ]
    },
    {
      "cell_type": "markdown",
      "source": [
        "# Inserting a Tuple (as an Element) to the List"
      ],
      "metadata": {
        "id": "PunhqsIAk7oj"
      }
    },
    {
      "cell_type": "code",
      "source": [
        "mixed_list = [{1, 2}, [5, 6, 7]]\n",
        "\n",
        "# number tuple\n",
        "number_tuple = (3, 4)\n",
        "\n",
        "# inserting a tuple to the list\n",
        "mixed_list.insert(1, number_tuple)\n",
        "\n",
        "\n",
        "print('Updated List:', mixed_list)"
      ],
      "metadata": {
        "colab": {
          "base_uri": "https://localhost:8080/"
        },
        "id": "7xkNKr4Hk7A1",
        "outputId": "985609d3-b7ba-477f-b846-b88db489d55b"
      },
      "execution_count": null,
      "outputs": [
        {
          "output_type": "stream",
          "name": "stdout",
          "text": [
            "Updated List: [{1, 2}, (3, 4), [5, 6, 7]]\n"
          ]
        }
      ]
    },
    {
      "cell_type": "markdown",
      "source": [
        "# creating a loop to create a new list (one line loop)"
      ],
      "metadata": {
        "id": "mGVsFIO3JHc0"
      }
    },
    {
      "cell_type": "code",
      "source": [
        "list_var = 1,2,3,4,5,6,7,8,9,10\n",
        "new_list = []\n",
        "for var in list_var:\n",
        "  new_var=var*2\n",
        "  new_list.append(new_var)\n",
        "print(list_var, new_list)\n",
        "\n",
        "new_list_2 = [var*2 for var in list_var]\n",
        "print(new_list_2)\n",
        "\n",
        "new_list_3 = {var:var*2 for var in list_var}\n",
        "print(new_list_3)\n",
        "\n",
        "names= 'Prem', \"Ram\", \"Kissan\"\n",
        "new_list_4 = [var.upper() for var in names]\n",
        "print(new_list_4)"
      ],
      "metadata": {
        "colab": {
          "base_uri": "https://localhost:8080/"
        },
        "id": "_pchvLbHHlTD",
        "outputId": "b3bfc452-0266-46d8-8787-6f90954862c7"
      },
      "execution_count": null,
      "outputs": [
        {
          "output_type": "stream",
          "name": "stdout",
          "text": [
            "(1, 2, 3, 4, 5, 6, 7, 8, 9, 10) [2, 4, 6, 8, 10, 12, 14, 16, 18, 20]\n",
            "[2, 4, 6, 8, 10, 12, 14, 16, 18, 20]\n",
            "{1: 2, 2: 4, 3: 6, 4: 8, 5: 10, 6: 12, 7: 14, 8: 16, 9: 18, 10: 20}\n",
            "['PREM', 'RAM', 'KISSAN']\n"
          ]
        }
      ]
    },
    {
      "cell_type": "code",
      "source": [
        "list_var = 1,2,3,4,5,6,7,8,9,10\n",
        "new_list_2 = [(((var+var)*2)/10) for var in list_var]\n",
        "print(new_list_2)\n"
      ],
      "metadata": {
        "colab": {
          "base_uri": "https://localhost:8080/"
        },
        "id": "dpCzR4WRMlVl",
        "outputId": "ef562865-e92c-4bd7-ea30-c8ea7078f7ee"
      },
      "execution_count": null,
      "outputs": [
        {
          "output_type": "stream",
          "name": "stdout",
          "text": [
            "[0.4, 0.8, 1.2, 1.6, 2.0, 2.4, 2.8, 3.2, 3.6, 4.0]\n"
          ]
        }
      ]
    }
  ]
}